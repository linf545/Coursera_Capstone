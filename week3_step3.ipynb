{
    "nbformat_minor": 1, 
    "cells": [
        {
            "source": "\n#import modules\n\n\n\n\n\n\n", 
            "cell_type": "markdown", 
            "metadata": {}
        }, 
        {
            "source": "import pandas as pd\nimport requests", 
            "cell_type": "code", 
            "metadata": {}, 
            "outputs": [], 
            "execution_count": 35
        }, 
        {
            "source": "\n#get data from wiki\n#obtain tables \n#get the first table", 
            "cell_type": "markdown", 
            "metadata": {}
        }, 
        {
            "source": "web=requests.get('https://en.wikipedia.org/wiki/List_of_postal_codes_of_Canada:_M').content\nlist_web = pd.read_html(web)\ndf = list_web[0]", 
            "cell_type": "code", 
            "metadata": {}, 
            "outputs": [], 
            "execution_count": 36
        }, 
        {
            "source": "#assign first row as column names", 
            "cell_type": "markdown", 
            "metadata": {}
        }, 
        {
            "source": "df.columns=['Postcode','Borough','Neighbourhood']\ndf.drop(axis=0,index=0,inplace=True)", 
            "cell_type": "code", 
            "metadata": {}, 
            "outputs": [], 
            "execution_count": 37
        }, 
        {
            "source": "#remove rows with 'not assigned'", 
            "cell_type": "markdown", 
            "metadata": {}
        }, 
        {
            "source": "df_a=df[df['Borough']!='Not assigned']\ndf_a.reset_index(drop=True, inplace=True)", 
            "cell_type": "code", 
            "metadata": {}, 
            "outputs": [], 
            "execution_count": 38
        }, 
        {
            "source": "#merge naborhood with the same postcode\n#for unassigned Neighbourhood, use Borough as Neighbourhood ", 
            "cell_type": "markdown", 
            "metadata": {}
        }, 
        {
            "source": "df_b=df_a.groupby(['Postcode','Borough'])['Neighbourhood'].apply(', '.join).reset_index()\ndf_b['Neighbourhood'][df_b['Neighbourhood']=='Not assigned']= df_b['Borough'][df_b['Neighbourhood']=='Not assigned']\n", 
            "cell_type": "code", 
            "metadata": {}, 
            "outputs": [], 
            "execution_count": 39
        }, 
        {
            "source": "#check df", 
            "cell_type": "markdown", 
            "metadata": {}
        }, 
        {
            "source": "df_b.head()", 
            "cell_type": "code", 
            "metadata": {}, 
            "outputs": [
                {
                    "output_type": "execute_result", 
                    "data": {
                        "text/plain": "  Postcode      Borough                           Neighbourhood\n0      M1B  Scarborough                          Rouge, Malvern\n1      M1C  Scarborough  Highland Creek, Rouge Hill, Port Union\n2      M1E  Scarborough       Guildwood, Morningside, West Hill\n3      M1G  Scarborough                                  Woburn\n4      M1H  Scarborough                               Cedarbrae", 
                        "text/html": "<div>\n<style scoped>\n    .dataframe tbody tr th:only-of-type {\n        vertical-align: middle;\n    }\n\n    .dataframe tbody tr th {\n        vertical-align: top;\n    }\n\n    .dataframe thead th {\n        text-align: right;\n    }\n</style>\n<table border=\"1\" class=\"dataframe\">\n  <thead>\n    <tr style=\"text-align: right;\">\n      <th></th>\n      <th>Postcode</th>\n      <th>Borough</th>\n      <th>Neighbourhood</th>\n    </tr>\n  </thead>\n  <tbody>\n    <tr>\n      <th>0</th>\n      <td>M1B</td>\n      <td>Scarborough</td>\n      <td>Rouge, Malvern</td>\n    </tr>\n    <tr>\n      <th>1</th>\n      <td>M1C</td>\n      <td>Scarborough</td>\n      <td>Highland Creek, Rouge Hill, Port Union</td>\n    </tr>\n    <tr>\n      <th>2</th>\n      <td>M1E</td>\n      <td>Scarborough</td>\n      <td>Guildwood, Morningside, West Hill</td>\n    </tr>\n    <tr>\n      <th>3</th>\n      <td>M1G</td>\n      <td>Scarborough</td>\n      <td>Woburn</td>\n    </tr>\n    <tr>\n      <th>4</th>\n      <td>M1H</td>\n      <td>Scarborough</td>\n      <td>Cedarbrae</td>\n    </tr>\n  </tbody>\n</table>\n</div>"
                    }, 
                    "execution_count": 40, 
                    "metadata": {}
                }
            ], 
            "execution_count": 40
        }, 
        {
            "source": "df_b.shape", 
            "cell_type": "code", 
            "metadata": {}, 
            "outputs": [
                {
                    "output_type": "execute_result", 
                    "data": {
                        "text/plain": "(103, 3)"
                    }, 
                    "execution_count": 41, 
                    "metadata": {}
                }
            ], 
            "execution_count": 41
        }, 
        {
            "source": "## step2", 
            "cell_type": "markdown", 
            "metadata": {}
        }, 
        {
            "source": "geo_code=pd.read_csv('http://cocl.us/Geospatial_data')", 
            "cell_type": "code", 
            "metadata": {}, 
            "outputs": [], 
            "execution_count": 48
        }, 
        {
            "source": "geo_code.head()", 
            "cell_type": "code", 
            "metadata": {}, 
            "outputs": [
                {
                    "output_type": "execute_result", 
                    "data": {
                        "text/plain": "  Postal Code   Latitude  Longitude\n0         M1B  43.806686 -79.194353\n1         M1C  43.784535 -79.160497\n2         M1E  43.763573 -79.188711\n3         M1G  43.770992 -79.216917\n4         M1H  43.773136 -79.239476", 
                        "text/html": "<div>\n<style scoped>\n    .dataframe tbody tr th:only-of-type {\n        vertical-align: middle;\n    }\n\n    .dataframe tbody tr th {\n        vertical-align: top;\n    }\n\n    .dataframe thead th {\n        text-align: right;\n    }\n</style>\n<table border=\"1\" class=\"dataframe\">\n  <thead>\n    <tr style=\"text-align: right;\">\n      <th></th>\n      <th>Postal Code</th>\n      <th>Latitude</th>\n      <th>Longitude</th>\n    </tr>\n  </thead>\n  <tbody>\n    <tr>\n      <th>0</th>\n      <td>M1B</td>\n      <td>43.806686</td>\n      <td>-79.194353</td>\n    </tr>\n    <tr>\n      <th>1</th>\n      <td>M1C</td>\n      <td>43.784535</td>\n      <td>-79.160497</td>\n    </tr>\n    <tr>\n      <th>2</th>\n      <td>M1E</td>\n      <td>43.763573</td>\n      <td>-79.188711</td>\n    </tr>\n    <tr>\n      <th>3</th>\n      <td>M1G</td>\n      <td>43.770992</td>\n      <td>-79.216917</td>\n    </tr>\n    <tr>\n      <th>4</th>\n      <td>M1H</td>\n      <td>43.773136</td>\n      <td>-79.239476</td>\n    </tr>\n  </tbody>\n</table>\n</div>"
                    }, 
                    "execution_count": 50, 
                    "metadata": {}
                }
            ], 
            "execution_count": 50
        }, 
        {
            "source": "geo_code.index=geo_code['Postal Code']\ngeo_code_dict= geo_code.to_dict('index')\n", 
            "cell_type": "code", 
            "metadata": {}, 
            "outputs": [
                {
                    "output_type": "execute_result", 
                    "data": {
                        "text/plain": "43.806686299999996"
                    }, 
                    "execution_count": 60, 
                    "metadata": {}
                }
            ], 
            "execution_count": 60
        }, 
        {
            "source": "Latitude=[]\nLongitude=[]\nfor i in range(len(df_b)):\n    Lat=geo_code_dict.get(df_b['Postcode'][i]).get('Latitude')\n    Lon=geo_code_dict.get(df_b['Postcode'][i]).get('Longitude')\n    Latitude.append(Lat)\n    Longitude.append(Lon)\n", 
            "cell_type": "code", 
            "metadata": {}, 
            "outputs": [], 
            "execution_count": 61
        }, 
        {
            "source": "df_b['Latitude']=Latitude\ndf_b['Longitude']=Longitude\ndf_b.head(20)", 
            "cell_type": "code", 
            "metadata": {}, 
            "outputs": [
                {
                    "output_type": "execute_result", 
                    "data": {
                        "text/plain": "   Postcode      Borough                                      Neighbourhood  \\\n0       M1B  Scarborough                                     Rouge, Malvern   \n1       M1C  Scarborough             Highland Creek, Rouge Hill, Port Union   \n2       M1E  Scarborough                  Guildwood, Morningside, West Hill   \n3       M1G  Scarborough                                             Woburn   \n4       M1H  Scarborough                                          Cedarbrae   \n5       M1J  Scarborough                                Scarborough Village   \n6       M1K  Scarborough        East Birchmount Park, Ionview, Kennedy Park   \n7       M1L  Scarborough                    Clairlea, Golden Mile, Oakridge   \n8       M1M  Scarborough    Cliffcrest, Cliffside, Scarborough Village West   \n9       M1N  Scarborough                        Birch Cliff, Cliffside West   \n10      M1P  Scarborough  Dorset Park, Scarborough Town Centre, Wexford ...   \n11      M1R  Scarborough                                  Maryvale, Wexford   \n12      M1S  Scarborough                                          Agincourt   \n13      M1T  Scarborough            Clarks Corners, Sullivan, Tam O'Shanter   \n14      M1V  Scarborough  Agincourt North, L'Amoreaux East, Milliken, St...   \n15      M1W  Scarborough                      L'Amoreaux West, Steeles West   \n16      M1X  Scarborough                                        Upper Rouge   \n17      M2H   North York                                  Hillcrest Village   \n18      M2J   North York                       Fairview, Henry Farm, Oriole   \n19      M2K   North York                                    Bayview Village   \n\n     Latitude  Longitude  \n0   43.806686 -79.194353  \n1   43.784535 -79.160497  \n2   43.763573 -79.188711  \n3   43.770992 -79.216917  \n4   43.773136 -79.239476  \n5   43.744734 -79.239476  \n6   43.727929 -79.262029  \n7   43.711112 -79.284577  \n8   43.716316 -79.239476  \n9   43.692657 -79.264848  \n10  43.757410 -79.273304  \n11  43.750072 -79.295849  \n12  43.794200 -79.262029  \n13  43.781638 -79.304302  \n14  43.815252 -79.284577  \n15  43.799525 -79.318389  \n16  43.836125 -79.205636  \n17  43.803762 -79.363452  \n18  43.778517 -79.346556  \n19  43.786947 -79.385975  ", 
                        "text/html": "<div>\n<style scoped>\n    .dataframe tbody tr th:only-of-type {\n        vertical-align: middle;\n    }\n\n    .dataframe tbody tr th {\n        vertical-align: top;\n    }\n\n    .dataframe thead th {\n        text-align: right;\n    }\n</style>\n<table border=\"1\" class=\"dataframe\">\n  <thead>\n    <tr style=\"text-align: right;\">\n      <th></th>\n      <th>Postcode</th>\n      <th>Borough</th>\n      <th>Neighbourhood</th>\n      <th>Latitude</th>\n      <th>Longitude</th>\n    </tr>\n  </thead>\n  <tbody>\n    <tr>\n      <th>0</th>\n      <td>M1B</td>\n      <td>Scarborough</td>\n      <td>Rouge, Malvern</td>\n      <td>43.806686</td>\n      <td>-79.194353</td>\n    </tr>\n    <tr>\n      <th>1</th>\n      <td>M1C</td>\n      <td>Scarborough</td>\n      <td>Highland Creek, Rouge Hill, Port Union</td>\n      <td>43.784535</td>\n      <td>-79.160497</td>\n    </tr>\n    <tr>\n      <th>2</th>\n      <td>M1E</td>\n      <td>Scarborough</td>\n      <td>Guildwood, Morningside, West Hill</td>\n      <td>43.763573</td>\n      <td>-79.188711</td>\n    </tr>\n    <tr>\n      <th>3</th>\n      <td>M1G</td>\n      <td>Scarborough</td>\n      <td>Woburn</td>\n      <td>43.770992</td>\n      <td>-79.216917</td>\n    </tr>\n    <tr>\n      <th>4</th>\n      <td>M1H</td>\n      <td>Scarborough</td>\n      <td>Cedarbrae</td>\n      <td>43.773136</td>\n      <td>-79.239476</td>\n    </tr>\n    <tr>\n      <th>5</th>\n      <td>M1J</td>\n      <td>Scarborough</td>\n      <td>Scarborough Village</td>\n      <td>43.744734</td>\n      <td>-79.239476</td>\n    </tr>\n    <tr>\n      <th>6</th>\n      <td>M1K</td>\n      <td>Scarborough</td>\n      <td>East Birchmount Park, Ionview, Kennedy Park</td>\n      <td>43.727929</td>\n      <td>-79.262029</td>\n    </tr>\n    <tr>\n      <th>7</th>\n      <td>M1L</td>\n      <td>Scarborough</td>\n      <td>Clairlea, Golden Mile, Oakridge</td>\n      <td>43.711112</td>\n      <td>-79.284577</td>\n    </tr>\n    <tr>\n      <th>8</th>\n      <td>M1M</td>\n      <td>Scarborough</td>\n      <td>Cliffcrest, Cliffside, Scarborough Village West</td>\n      <td>43.716316</td>\n      <td>-79.239476</td>\n    </tr>\n    <tr>\n      <th>9</th>\n      <td>M1N</td>\n      <td>Scarborough</td>\n      <td>Birch Cliff, Cliffside West</td>\n      <td>43.692657</td>\n      <td>-79.264848</td>\n    </tr>\n    <tr>\n      <th>10</th>\n      <td>M1P</td>\n      <td>Scarborough</td>\n      <td>Dorset Park, Scarborough Town Centre, Wexford ...</td>\n      <td>43.757410</td>\n      <td>-79.273304</td>\n    </tr>\n    <tr>\n      <th>11</th>\n      <td>M1R</td>\n      <td>Scarborough</td>\n      <td>Maryvale, Wexford</td>\n      <td>43.750072</td>\n      <td>-79.295849</td>\n    </tr>\n    <tr>\n      <th>12</th>\n      <td>M1S</td>\n      <td>Scarborough</td>\n      <td>Agincourt</td>\n      <td>43.794200</td>\n      <td>-79.262029</td>\n    </tr>\n    <tr>\n      <th>13</th>\n      <td>M1T</td>\n      <td>Scarborough</td>\n      <td>Clarks Corners, Sullivan, Tam O'Shanter</td>\n      <td>43.781638</td>\n      <td>-79.304302</td>\n    </tr>\n    <tr>\n      <th>14</th>\n      <td>M1V</td>\n      <td>Scarborough</td>\n      <td>Agincourt North, L'Amoreaux East, Milliken, St...</td>\n      <td>43.815252</td>\n      <td>-79.284577</td>\n    </tr>\n    <tr>\n      <th>15</th>\n      <td>M1W</td>\n      <td>Scarborough</td>\n      <td>L'Amoreaux West, Steeles West</td>\n      <td>43.799525</td>\n      <td>-79.318389</td>\n    </tr>\n    <tr>\n      <th>16</th>\n      <td>M1X</td>\n      <td>Scarborough</td>\n      <td>Upper Rouge</td>\n      <td>43.836125</td>\n      <td>-79.205636</td>\n    </tr>\n    <tr>\n      <th>17</th>\n      <td>M2H</td>\n      <td>North York</td>\n      <td>Hillcrest Village</td>\n      <td>43.803762</td>\n      <td>-79.363452</td>\n    </tr>\n    <tr>\n      <th>18</th>\n      <td>M2J</td>\n      <td>North York</td>\n      <td>Fairview, Henry Farm, Oriole</td>\n      <td>43.778517</td>\n      <td>-79.346556</td>\n    </tr>\n    <tr>\n      <th>19</th>\n      <td>M2K</td>\n      <td>North York</td>\n      <td>Bayview Village</td>\n      <td>43.786947</td>\n      <td>-79.385975</td>\n    </tr>\n  </tbody>\n</table>\n</div>"
                    }, 
                    "execution_count": 65, 
                    "metadata": {}
                }
            ], 
            "execution_count": 65
        }, 
        {
            "source": "## step3", 
            "cell_type": "markdown", 
            "metadata": {}
        }, 
        {
            "source": "#segment the neighborhoods in Borough", 
            "cell_type": "markdown", 
            "metadata": {}
        }, 
        {
            "source": "df_Scarborough=df_b[df_b['Borough']=='Scarborough']", 
            "cell_type": "code", 
            "metadata": {}, 
            "outputs": [], 
            "execution_count": 67
        }, 
        {
            "source": "df_Scarborough[['Latitude','Longitude']].mean()", 
            "cell_type": "code", 
            "metadata": {}, 
            "outputs": [
                {
                    "output_type": "execute_result", 
                    "data": {
                        "text/plain": "Latitude     43.766229\nLongitude   -79.249085\ndtype: float64"
                    }, 
                    "execution_count": 73, 
                    "metadata": {}
                }
            ], 
            "execution_count": 73
        }, 
        {
            "source": "!conda install -c conda-forge folium=0.5.0 --yes\nimport folium", 
            "cell_type": "code", 
            "metadata": {}, 
            "outputs": [
                {
                    "output_type": "stream", 
                    "name": "stdout", 
                    "text": "Fetching package metadata .............\nSolving package specifications: .\n\nPackage plan for installation in environment /opt/conda/envs/DSX-Python35:\n\nThe following NEW packages will be INSTALLED:\n\n    altair:  2.2.2-py35_1 conda-forge\n    branca:  0.3.1-py_0   conda-forge\n    folium:  0.5.0-py_0   conda-forge\n    vincent: 0.4.4-py_1   conda-forge\n\naltair-2.2.2-p 100% |################################| Time: 0:00:00  52.70 MB/s\nbranca-0.3.1-p 100% |################################| Time: 0:00:00  24.92 MB/s\nvincent-0.4.4- 100% |################################| Time: 0:00:00  27.06 MB/s\nfolium-0.5.0-p 100% |################################| Time: 0:00:00   7.64 MB/s\n"
                }
            ], 
            "execution_count": 76
        }, 
        {
            "source": "map_Scarborough = folium.Map(location=[43.766229, -79.249085], zoom_start=12)\nfor lat, lng, label in zip(df_Scarborough['Latitude'], df_Scarborough['Longitude'], df_Scarborough['Neighbourhood']):\n    label = folium.Popup(label, parse_html=True)\n    folium.CircleMarker(\n        [lat, lng],\n        radius=5,\n        popup=label,\n        color='blue',\n        fill=True,\n        fill_color='#3186cc',\n        fill_opacity=0.7,\n        parse_html=False).add_to(map_Scarborough)  \n    \nmap_Scarborough", 
            "cell_type": "code", 
            "metadata": {}, 
            "outputs": [
                {
                    "output_type": "execute_result", 
                    "data": {
                        "text/plain": "<folium.folium.Map at 0x7f082f976cf8>", 
                        "text/html": "<div style=\"width:100%;\"><div style=\"position:relative;width:100%;height:0;padding-bottom:60%;\"><iframe src=\"data:text/html;charset=utf-8;base64,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\" style=\"position:absolute;width:100%;height:100%;left:0;top:0;border:none !important;\" allowfullscreen webkitallowfullscreen mozallowfullscreen></iframe></div></div>"
                    }, 
                    "execution_count": 82, 
                    "metadata": {}
                }
            ], 
            "execution_count": 82
        }, 
        {
            "source": "", 
            "cell_type": "markdown", 
            "metadata": {}
        }
    ], 
    "metadata": {
        "kernelspec": {
            "display_name": "Python 3.5", 
            "name": "python3", 
            "language": "python"
        }, 
        "language_info": {
            "mimetype": "text/x-python", 
            "nbconvert_exporter": "python", 
            "version": "3.5.5", 
            "name": "python", 
            "pygments_lexer": "ipython3", 
            "file_extension": ".py", 
            "codemirror_mode": {
                "version": 3, 
                "name": "ipython"
            }
        }
    }, 
    "nbformat": 4
}